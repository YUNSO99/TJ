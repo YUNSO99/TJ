{
 "cells": [
  {
   "cell_type": "code",
   "execution_count": 19,
   "metadata": {},
   "outputs": [],
   "source": [
    "import pandas as pd\n",
    "import numpy as np\n",
    "\n",
    "# 1. 시카고 마라톤 원본 데이터 불러오기\n",
    "chicago_df = pd.read_csv(\"./data/chicago_data.csv\")"
   ]
  },
  {
   "cell_type": "code",
   "execution_count": 20,
   "metadata": {},
   "outputs": [],
   "source": [
    "# 2. 구간 기록 컬럼명을 보스턴 데이터와 동일하게 통일\n",
    "split_mapping = {\n",
    "    '5km.time': '5K',\n",
    "    '10km.time': '10K',\n",
    "    '15km.time': '15K',\n",
    "    '20km.time': '20K',\n",
    "    'half.time': 'Half',\n",
    "    '25km.time': '25K',\n",
    "    '30km.time': '30K',\n",
    "    '35km.time': '35K',\n",
    "    '40km.time': '40K',\n",
    "    'finish.time': 'Final_Time'\n",
    "}\n",
    "chicago_df = chicago_df.rename(columns=split_mapping)"
   ]
  },
  {
   "cell_type": "code",
   "execution_count": 21,
   "metadata": {},
   "outputs": [],
   "source": [
    "# 3. 문자열 형태의 시간 데이터를 pandas timedelta로 변환\n",
    "for col in split_mapping.values():\n",
    "    chicago_df[col] = pd.to_timedelta(chicago_df[col], errors='coerce')\n",
    "\n",
    "# timedelta 형식인 칼럼들 리스트\n",
    "time_cols = [\"5K\", \"10K\", \"15K\", \"20K\", \"Half\", \"25K\", \"30K\", \"35K\", \"40K\", \"Final_Time\"]  \n",
    "\n",
    "# 각 칼럼을 초 단위로 변환하여 새로운 컬럼 추가 (예: '5K_sec', '10K_sec' ...)\n",
    "for col in time_cols:\n",
    "    chicago_df[col] = pd.to_timedelta(chicago_df[col]).dt.total_seconds()\n"
   ]
  },
  {
   "cell_type": "code",
   "execution_count": 22,
   "metadata": {},
   "outputs": [],
   "source": [
    "# 4. 공식 완주시간(Final_Time)을 시간 단위로 변환해 새로운 컬럼 생성\n",
    "# chicago_df[\"Final_Time\"] = chicago_df[\"Final_Time\"].dt.total_seconds()"
   ]
  },
  {
   "cell_type": "code",
   "execution_count": 23,
   "metadata": {},
   "outputs": [],
   "source": [
    "# 5. 연령대 그룹화 (20대, 30대, ...) - 보스턴 데이터와 통일된 형식\n",
    "\n",
    "# def get_age_group(val):\n",
    "#     try:\n",
    "#         val = int(str(val)[:2])  # 예: '20-24' → 20\n",
    "#         return val if val >= 20 else 20\n",
    "#     except:\n",
    "#         return np.nan\n",
    "\n",
    "# chicago_df[\"Age group\"] = chicago_df[\"age_class\"].map(get_age_group)"
   ]
  },
  {
   "cell_type": "code",
   "execution_count": 24,
   "metadata": {},
   "outputs": [],
   "source": [
    "# 6. 성별 표기 통일: man/woman → M/F\n",
    "chicago_df[\"M/F\"] = chicago_df[\"gender\"].map({\"man\": \"0\", \"woman\": \"1\"})"
   ]
  },
  {
   "cell_type": "code",
   "execution_count": 25,
   "metadata": {},
   "outputs": [],
   "source": [
    "# 7. 각 구간별 페이스 계산 (분/km 기준)\n",
    "dist_cols = [\"5K\", \"10K\", \"15K\", \"20K\", \"Half\", \"25K\", \"30K\", \"35K\", \"40K\"]\n",
    "dists = [5, 10, 15, 20, 21.0975, 25, 30, 35, 40]\n",
    "\n",
    "for col, dist in zip(dist_cols, dists):\n",
    "    chicago_df[col + \"p\"] = chicago_df[col] / (dist)\n",
    "\n",
    "split_mapping = {\n",
    "    '5Kp': '5p',\n",
    "    '10Kp': '10p',\n",
    "    '15Kp': '15p',\n",
    "    '20Kp': '20p',\n",
    "    'Halfp': 'Halfp',\n",
    "    '25Kp': '25p',\n",
    "    '30Kp': '30p',\n",
    "    '35Kp': '35p',\n",
    "    '40Kp': '40p',\n",
    "}\n",
    "chicago_df = chicago_df.rename(columns=split_mapping)"
   ]
  },
  {
   "cell_type": "code",
   "execution_count": 26,
   "metadata": {},
   "outputs": [],
   "source": [
    "# chicago_df.info()\n"
   ]
  },
  {
   "cell_type": "code",
   "execution_count": 27,
   "metadata": {},
   "outputs": [],
   "source": [
    "# 8. '.time_of_day'로 끝나는 모든 컬럼 제거\n",
    "cols_to_drop = [col for col in chicago_df.columns if col.endswith(\".time_of_day\")]\n",
    "chicago_df.drop(columns=cols_to_drop, inplace=True)\n",
    "\n",
    "def age_group_by_upper(val):\n",
    "    try:\n",
    "        return int(str(val).split('-')[1])  # '20-24' → 24\n",
    "    except:\n",
    "        return np.nan\n",
    "\n",
    "# Age_class 결측값 제거 및 전처리\n",
    "chicago_df = chicago_df[~(chicago_df[\"age_class\"].isna() | (chicago_df[\"age_class\"] == \"MT53\"))]\n",
    "chicago_df['age_class'] = chicago_df['age_class'].map(age_group_by_upper)\n",
    "\n"
   ]
  },
  {
   "cell_type": "code",
   "execution_count": 28,
   "metadata": {},
   "outputs": [
    {
     "name": "stdout",
     "output_type": "stream",
     "text": [
      "<class 'pandas.core.frame.DataFrame'>\n",
      "Index: 26950 entries, 0 to 26999\n",
      "Data columns (total 31 columns):\n",
      " #   Column         Non-Null Count  Dtype  \n",
      "---  ------         --------------  -----  \n",
      " 0   name           26950 non-null  object \n",
      " 1   gender         26950 non-null  object \n",
      " 2   country        26950 non-null  object \n",
      " 3   bib            0 non-null      float64\n",
      " 4   age_class      26861 non-null  float64\n",
      " 5   finish_time    26950 non-null  object \n",
      " 6   place_gender   26950 non-null  int64  \n",
      " 7   place_overall  26950 non-null  int64  \n",
      " 8   details_url    26950 non-null  object \n",
      " 9   city_state     26927 non-null  object \n",
      " 10  start.time     26950 non-null  object \n",
      " 11  5K             26805 non-null  float64\n",
      " 12  10K            26912 non-null  float64\n",
      " 13  15K            26916 non-null  float64\n",
      " 14  20K            26918 non-null  float64\n",
      " 15  Half           26920 non-null  float64\n",
      " 16  25K            26921 non-null  float64\n",
      " 17  30K            26922 non-null  float64\n",
      " 18  35K            26923 non-null  float64\n",
      " 19  40K            26923 non-null  float64\n",
      " 20  Final_Time     26928 non-null  float64\n",
      " 21  M/F            26950 non-null  object \n",
      " 22  5p             26805 non-null  float64\n",
      " 23  10p            26912 non-null  float64\n",
      " 24  15p            26916 non-null  float64\n",
      " 25  20p            26918 non-null  float64\n",
      " 26  Halfp          26920 non-null  float64\n",
      " 27  25p            26921 non-null  float64\n",
      " 28  30p            26922 non-null  float64\n",
      " 29  35p            26923 non-null  float64\n",
      " 30  40p            26923 non-null  float64\n",
      "dtypes: float64(21), int64(2), object(8)\n",
      "memory usage: 6.6+ MB\n"
     ]
    }
   ],
   "source": [
    "chicago_df.info()"
   ]
  },
  {
   "cell_type": "code",
   "execution_count": 29,
   "metadata": {},
   "outputs": [],
   "source": [
    "# 피처명 수정\n",
    "chicago_df.rename(columns={\"bib\": \"Bib\", \"name\": \"Name\", \"place_gender\": \"Gender\", \"place_overall\": \"Overall\", \"country\": \"Country\"}, inplace=True)\n"
   ]
  },
  {
   "cell_type": "code",
   "execution_count": 30,
   "metadata": {},
   "outputs": [],
   "source": [
    "# 나이(Age)를 기준으로 연령대 그룹(구간)으로 나누는 함수 ex. 0~19 -> 20 / 20~29 -> 30\n",
    "# def group_calculator(serie):\n",
    "#     list=[]\n",
    "#     for i in range(len(serie)):\n",
    "#         if serie[i]<20:\n",
    "#             list.append(20)\n",
    "#         elif serie[i]<30:\n",
    "#             list.append(30)\n",
    "#         elif serie[i]<40:\n",
    "#             list.append(40)\n",
    "#         elif serie[i]<60:\n",
    "#             list.append(60)\n",
    "#         elif serie[i]<80:\n",
    "#             list.append(80)\n",
    "#         else:\n",
    "#             list.append(100)\n",
    "    \n",
    "#     return list\n",
    "def group_calculator(val):\n",
    "    try:\n",
    "        val = float(val)\n",
    "        if val <= 19:\n",
    "            return \"19\"\n",
    "        elif val <= 24:\n",
    "            return \"24\"\n",
    "        elif val <= 29:\n",
    "            return \"29\"\n",
    "        elif val <= 34:\n",
    "            return \"34\"\n",
    "        elif val <= 39:\n",
    "            return \"39\"\n",
    "        elif val <= 44:\n",
    "            return \"44\"\n",
    "        elif val <= 49:\n",
    "            return \"49\"\n",
    "        elif val <= 54:\n",
    "            return \"54\"\n",
    "        elif val <= 59:\n",
    "            return \"59\"\n",
    "        elif val <= 64:\n",
    "            return \"64\"\n",
    "        elif val <= 69:\n",
    "            return \"69\"\n",
    "        else:\n",
    "            return \"70\"\n",
    "    except:\n",
    "        return np.nan\n",
    "\n",
    "    \n",
    "# 연령대 그룹 (20, 30, 40, 60, 80, 100) 생성 후, Age group 컬럼 생성\n",
    "# chicago_df['Age group']=pd.Series(group_calculator(chicago_df['age_class']))\n",
    "chicago_df['Age_group'] = chicago_df['age_class'].map(group_calculator)"
   ]
  },
  {
   "cell_type": "code",
   "execution_count": 31,
   "metadata": {},
   "outputs": [
    {
     "name": "stdout",
     "output_type": "stream",
     "text": [
      "<class 'pandas.core.frame.DataFrame'>\n",
      "Index: 26928 entries, 0 to 26999\n",
      "Data columns (total 32 columns):\n",
      " #   Column       Non-Null Count  Dtype  \n",
      "---  ------       --------------  -----  \n",
      " 0   Name         26928 non-null  object \n",
      " 1   gender       26928 non-null  object \n",
      " 2   Country      26928 non-null  object \n",
      " 3   Bib          0 non-null      float64\n",
      " 4   age_class    26861 non-null  float64\n",
      " 5   finish_time  26928 non-null  object \n",
      " 6   Gender       26928 non-null  int64  \n",
      " 7   Overall      26928 non-null  int64  \n",
      " 8   details_url  26928 non-null  object \n",
      " 9   city_state   26927 non-null  object \n",
      " 10  start.time   26928 non-null  object \n",
      " 11  5K           26805 non-null  float64\n",
      " 12  10K          26912 non-null  float64\n",
      " 13  15K          26916 non-null  float64\n",
      " 14  20K          26918 non-null  float64\n",
      " 15  Half         26920 non-null  float64\n",
      " 16  25K          26921 non-null  float64\n",
      " 17  30K          26922 non-null  float64\n",
      " 18  35K          26923 non-null  float64\n",
      " 19  40K          26923 non-null  float64\n",
      " 20  Final_Time   26928 non-null  float64\n",
      " 21  M/F          26928 non-null  object \n",
      " 22  5p           26805 non-null  float64\n",
      " 23  10p          26912 non-null  float64\n",
      " 24  15p          26916 non-null  float64\n",
      " 25  20p          26918 non-null  float64\n",
      " 26  Halfp        26920 non-null  float64\n",
      " 27  25p          26921 non-null  float64\n",
      " 28  30p          26922 non-null  float64\n",
      " 29  35p          26923 non-null  float64\n",
      " 30  40p          26923 non-null  float64\n",
      " 31  Age_group    26928 non-null  object \n",
      "dtypes: float64(21), int64(2), object(9)\n",
      "memory usage: 6.8+ MB\n"
     ]
    }
   ],
   "source": [
    "\n",
    "# 완주시간 결측값 제거\n",
    "chicago_df = chicago_df[chicago_df[\"Final_Time\"].notna()]\n",
    "\n",
    "chicago_df.info()\n"
   ]
  },
  {
   "cell_type": "code",
   "execution_count": 32,
   "metadata": {},
   "outputs": [],
   "source": [
    "# 'Pace' 칼럼 추가 - 러닝 전체 평균 pace\n",
    "\n",
    "# # 우선 Final_Time을 시간 문자열(hh:mm:ss) → 분 단위 float 값으로 변환\n",
    "# chicago_df[\"Final_Time (min)\"] = pd.to_timedelta(chicago_df[\"Final_Time\"]).dt.total_seconds() / 60\n",
    "\n",
    "# # 전체 마라톤 거리로 나눠 평균 pace (분/km) 계산\n",
    "# chicago_df[\"Pace\"] = chicago_df[\"Final_Time (min)\"] / 42.195\n",
    "\n",
    "# def format_pace(pace_float):\n",
    "#     minutes = int(pace_float)\n",
    "#     seconds = int(round((pace_float - minutes) * 60))\n",
    "#     return f\"{minutes}:{seconds:02d}\"\n",
    "\n",
    "# # 'pace' 컬럼을 문자열 형식으로 변환해서 새로운 컬럼으로 저장\n",
    "# chicago_df[\"Pace\"] = chicago_df[\"Pace\"].apply(format_pace)\n",
    "\n"
   ]
  },
  {
   "cell_type": "code",
   "execution_count": 33,
   "metadata": {},
   "outputs": [
    {
     "name": "stdout",
     "output_type": "stream",
     "text": [
      "<class 'pandas.core.frame.DataFrame'>\n",
      "Index: 26928 entries, 0 to 26999\n",
      "Data columns (total 23 columns):\n",
      " #   Column      Non-Null Count  Dtype  \n",
      "---  ------      --------------  -----  \n",
      " 0   Country     26928 non-null  object \n",
      " 1   Bib         0 non-null      float64\n",
      " 2   5K          26805 non-null  float64\n",
      " 3   10K         26912 non-null  float64\n",
      " 4   15K         26916 non-null  float64\n",
      " 5   20K         26918 non-null  float64\n",
      " 6   Half        26920 non-null  float64\n",
      " 7   25K         26921 non-null  float64\n",
      " 8   30K         26922 non-null  float64\n",
      " 9   35K         26923 non-null  float64\n",
      " 10  40K         26923 non-null  float64\n",
      " 11  Final_Time  26928 non-null  float64\n",
      " 12  M/F         26928 non-null  object \n",
      " 13  5p          26805 non-null  float64\n",
      " 14  10p         26912 non-null  float64\n",
      " 15  15p         26916 non-null  float64\n",
      " 16  20p         26918 non-null  float64\n",
      " 17  Halfp       26920 non-null  float64\n",
      " 18  25p         26921 non-null  float64\n",
      " 19  30p         26922 non-null  float64\n",
      " 20  35p         26923 non-null  float64\n",
      " 21  40p         26923 non-null  float64\n",
      " 22  Age_group   26928 non-null  object \n",
      "dtypes: float64(20), object(3)\n",
      "memory usage: 4.9+ MB\n"
     ]
    }
   ],
   "source": [
    "chicago_df = chicago_df.drop(columns=['gender', 'age_class', 'Gender', 'Overall', 'city_state', 'details_url', 'start.time', 'Name', 'finish_time'])\n",
    "\n",
    "\n",
    "chicago_df.info()"
   ]
  },
  {
   "cell_type": "code",
   "execution_count": 34,
   "metadata": {},
   "outputs": [],
   "source": [
    "# 목표 그룹 함수 정의\n",
    "def time_group(t):\n",
    "    if t < 10800.0:\n",
    "        return \"3\"\n",
    "    elif t < 14400.0:\n",
    "        return \"4\"\n",
    "    elif t < 18000.0:\n",
    "        return \"5\"\n",
    "    elif t < 21600.0:\n",
    "        return \"6\"\n",
    "    else:\n",
    "        return \"7\"\n",
    "\n",
    "# 그룹 컬럼 생성\n",
    "chicago_df['Sub'] = chicago_df['Final_Time'].apply(time_group)"
   ]
  },
  {
   "cell_type": "code",
   "execution_count": 35,
   "metadata": {},
   "outputs": [],
   "source": [
    "import numpy as np\n",
    "\n",
    "# 총 행 수\n",
    "num_rows = len(chicago_df)\n",
    "\n",
    "# 중복 없이 무작위 숫자 생성 (예: 100000 ~ 999999 사이)\n",
    "chicago_df[\"Bib\"] = np.random.choice(range(1, num_rows+1), size=num_rows, replace=False)\n",
    "\n",
    "chicago_df[\"Dataset\"] = \"C\"\n",
    "\n",
    "chicago_df[\"Year\"] = 2021\n",
    "\n",
    "\n",
    "\n",
    "chicago_df = chicago_df[[\"Bib\", \"Age_group\", \"M/F\", \"Country\", \"5p\", \"10p\", \"15p\", \"20p\", \"25p\", \"30p\", \"35p\", \"40p\", \"Final_Time\", \"Sub\", \"5K\", \"10K\", \"15K\", \"20K\", \"25K\", \"30K\", \"35K\", \"40K\", \"Dataset\", \"Year\"]]\n"
   ]
  },
  {
   "cell_type": "code",
   "execution_count": 36,
   "metadata": {},
   "outputs": [
    {
     "name": "stdout",
     "output_type": "stream",
     "text": [
      "[✓] chicago_data_processed.csv 저장 완료\n"
     ]
    }
   ],
   "source": [
    "# 전처리 완료된 파일 저장\n",
    "chicago_df.to_csv(\"./data/chicago_data_processed.csv\", index=False)\n",
    "print(\"[✓] chicago_data_processed.csv 저장 완료\")"
   ]
  },
  {
   "cell_type": "code",
   "execution_count": null,
   "metadata": {},
   "outputs": [],
   "source": []
  },
  {
   "cell_type": "code",
   "execution_count": null,
   "metadata": {},
   "outputs": [],
   "source": []
  },
  {
   "cell_type": "code",
   "execution_count": null,
   "metadata": {},
   "outputs": [],
   "source": []
  }
 ],
 "metadata": {
  "kernelspec": {
   "display_name": "ml_venu",
   "language": "python",
   "name": "python3"
  },
  "language_info": {
   "codemirror_mode": {
    "name": "ipython",
    "version": 3
   },
   "file_extension": ".py",
   "mimetype": "text/x-python",
   "name": "python",
   "nbconvert_exporter": "python",
   "pygments_lexer": "ipython3",
   "version": "3.12.5"
  }
 },
 "nbformat": 4,
 "nbformat_minor": 2
}
