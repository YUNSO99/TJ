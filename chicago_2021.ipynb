{
 "cells": [
  {
   "cell_type": "code",
   "execution_count": 339,
   "metadata": {},
   "outputs": [],
   "source": [
    "import pandas as pd\n",
    "import numpy as np\n",
    "\n",
    "# 1. 시카고 마라톤 원본 데이터 불러오기\n",
    "chicago_df = pd.read_csv(\"./data/chicago_data.csv\")"
   ]
  },
  {
   "cell_type": "code",
   "execution_count": 340,
   "metadata": {},
   "outputs": [],
   "source": [
    "# 2. 구간 기록 컬럼명을 보스턴 데이터와 동일하게 통일\n",
    "split_mapping = {\n",
    "    '5km.time': '5K',\n",
    "    '10km.time': '10K',\n",
    "    '15km.time': '15K',\n",
    "    '20km.time': '20K',\n",
    "    'half.time': 'Half',\n",
    "    '25km.time': '25K',\n",
    "    '30km.time': '30K',\n",
    "    '35km.time': '35K',\n",
    "    '40km.time': '40K',\n",
    "    'finish.time': 'Official Time'\n",
    "}\n",
    "chicago_df = chicago_df.rename(columns=split_mapping)"
   ]
  },
  {
   "cell_type": "code",
   "execution_count": 341,
   "metadata": {},
   "outputs": [],
   "source": [
    "# 3. 문자열 형태의 시간 데이터를 pandas timedelta로 변환\n",
    "for col in split_mapping.values():\n",
    "    chicago_df[col] = pd.to_timedelta(chicago_df[col], errors='coerce')"
   ]
  },
  {
   "cell_type": "code",
   "execution_count": 342,
   "metadata": {},
   "outputs": [],
   "source": [
    "# 4. 공식 완주시간(Official Time)을 시간 단위로 변환해 새로운 컬럼 생성\n",
    "chicago_df[\"Official Time Hour\"] = chicago_df[\"Official Time\"].dt.total_seconds() / 3600"
   ]
  },
  {
   "cell_type": "code",
   "execution_count": 343,
   "metadata": {},
   "outputs": [],
   "source": [
    "# 5. 연령대 그룹화 (20대, 30대, ...) - 보스턴 데이터와 통일된 형식\n",
    "\n",
    "def get_age_group(val):\n",
    "    try:\n",
    "        val = int(str(val)[:2])  # 예: '20-24' → 20\n",
    "        return val if val >= 20 else 20\n",
    "    except:\n",
    "        return np.nan\n",
    "\n",
    "chicago_df[\"Age group\"] = chicago_df[\"age_class\"].map(get_age_group)"
   ]
  },
  {
   "cell_type": "code",
   "execution_count": 344,
   "metadata": {},
   "outputs": [],
   "source": [
    "# 6. 성별 표기 통일: man/woman → M/F\n",
    "chicago_df[\"Gender\"] = chicago_df[\"gender\"].map({\"man\": \"M\", \"woman\": \"F\"})"
   ]
  },
  {
   "cell_type": "code",
   "execution_count": 345,
   "metadata": {},
   "outputs": [],
   "source": [
    "# 7. 각 구간별 페이스 계산 (분/km 기준)\n",
    "dist_cols = [\"5K\", \"10K\", \"15K\", \"20K\", \"Half\", \"25K\", \"30K\", \"35K\", \"40K\"]\n",
    "dists = [5, 10, 15, 20, 21.0975, 25, 30, 35, 40]\n",
    "\n",
    "for col, dist in zip(dist_cols, dists):\n",
    "    chicago_df[col + \"p\"] = chicago_df[col].dt.total_seconds() / (dist * 60)\n",
    "\n",
    "split_mapping = {\n",
    "    '5Kp': '5p',\n",
    "    '10Kp': '10p',\n",
    "    '15Kp': '15p',\n",
    "    '20Kp': '20p',\n",
    "    'Halfp': 'Halfp',\n",
    "    '25Kp': '25p',\n",
    "    '30Kp': '30p',\n",
    "    '35Kp': '35p',\n",
    "    '40Kp': '40p',\n",
    "}\n",
    "chicago_df = chicago_df.rename(columns=split_mapping)"
   ]
  },
  {
   "cell_type": "code",
   "execution_count": 346,
   "metadata": {},
   "outputs": [],
   "source": [
    "# chicago_df.info()\n"
   ]
  },
  {
   "cell_type": "code",
   "execution_count": 347,
   "metadata": {},
   "outputs": [],
   "source": [
    "# 8. '.time_of_day'로 끝나는 모든 컬럼 제거\n",
    "cols_to_drop = [col for col in chicago_df.columns if col.endswith(\".time_of_day\")]\n",
    "chicago_df.drop(columns=cols_to_drop, inplace=True)\n",
    "\n",
    "def age_group_by_upper(val):\n",
    "    try:\n",
    "        return int(str(val).split('-')[1])  # '20-24' → 24\n",
    "    except:\n",
    "        return np.nan\n",
    "\n",
    "# Age_class 결측값 제거 및 전처리\n",
    "chicago_df = chicago_df[~(chicago_df[\"age_class\"].isna() | (chicago_df[\"age_class\"] == \"MT53\"))]\n",
    "chicago_df['age_class'] = chicago_df['age_class'].map(age_group_by_upper)\n",
    "\n"
   ]
  },
  {
   "cell_type": "code",
   "execution_count": 348,
   "metadata": {},
   "outputs": [
    {
     "name": "stdout",
     "output_type": "stream",
     "text": [
      "<class 'pandas.core.frame.DataFrame'>\n",
      "Index: 26950 entries, 0 to 26999\n",
      "Data columns (total 33 columns):\n",
      " #   Column              Non-Null Count  Dtype          \n",
      "---  ------              --------------  -----          \n",
      " 0   name                26950 non-null  object         \n",
      " 1   gender              26950 non-null  object         \n",
      " 2   country             26950 non-null  object         \n",
      " 3   bib                 0 non-null      float64        \n",
      " 4   age_class           26861 non-null  float64        \n",
      " 5   finish_time         26950 non-null  object         \n",
      " 6   place_gender        26950 non-null  int64          \n",
      " 7   place_overall       26950 non-null  int64          \n",
      " 8   details_url         26950 non-null  object         \n",
      " 9   city_state          26927 non-null  object         \n",
      " 10  start.time          26950 non-null  object         \n",
      " 11  5K                  26805 non-null  timedelta64[ns]\n",
      " 12  10K                 26912 non-null  timedelta64[ns]\n",
      " 13  15K                 26916 non-null  timedelta64[ns]\n",
      " 14  20K                 26918 non-null  timedelta64[ns]\n",
      " 15  Half                26920 non-null  timedelta64[ns]\n",
      " 16  25K                 26921 non-null  timedelta64[ns]\n",
      " 17  30K                 26922 non-null  timedelta64[ns]\n",
      " 18  35K                 26923 non-null  timedelta64[ns]\n",
      " 19  40K                 26923 non-null  timedelta64[ns]\n",
      " 20  Official Time       26928 non-null  timedelta64[ns]\n",
      " 21  Official Time Hour  26928 non-null  float64        \n",
      " 22  Age group           26928 non-null  float64        \n",
      " 23  Gender              26950 non-null  object         \n",
      " 24  5p                  26805 non-null  float64        \n",
      " 25  10p                 26912 non-null  float64        \n",
      " 26  15p                 26916 non-null  float64        \n",
      " 27  20p                 26918 non-null  float64        \n",
      " 28  Halfp               26920 non-null  float64        \n",
      " 29  25p                 26921 non-null  float64        \n",
      " 30  30p                 26922 non-null  float64        \n",
      " 31  35p                 26923 non-null  float64        \n",
      " 32  40p                 26923 non-null  float64        \n",
      "dtypes: float64(13), int64(2), object(8), timedelta64[ns](10)\n",
      "memory usage: 7.0+ MB\n"
     ]
    }
   ],
   "source": [
    "chicago_df.info()"
   ]
  },
  {
   "cell_type": "code",
   "execution_count": 349,
   "metadata": {},
   "outputs": [],
   "source": [
    "# 피처명 수정\n",
    "chicago_df.rename(columns={\"bib\": \"Bib\", \"name\": \"Name\", \"Gender\": \"M/F\", \"place_gender\": \"Gender\", \"place_overall\": \"Overall\"}, inplace=True)\n"
   ]
  },
  {
   "cell_type": "code",
   "execution_count": 350,
   "metadata": {},
   "outputs": [],
   "source": [
    "# 나이(Age)를 기준으로 연령대 그룹(구간)으로 나누는 함수 ex. 0~19 -> 20 / 20~29 -> 30\n",
    "# def group_calculator(serie):\n",
    "#     list=[]\n",
    "#     for i in range(len(serie)):\n",
    "#         if serie[i]<20:\n",
    "#             list.append(20)\n",
    "#         elif serie[i]<30:\n",
    "#             list.append(30)\n",
    "#         elif serie[i]<40:\n",
    "#             list.append(40)\n",
    "#         elif serie[i]<60:\n",
    "#             list.append(60)\n",
    "#         elif serie[i]<80:\n",
    "#             list.append(80)\n",
    "#         else:\n",
    "#             list.append(100)\n",
    "    \n",
    "#     return list\n",
    "def group_calculator(val):\n",
    "    try:\n",
    "        val = float(val)\n",
    "        if val < 30:\n",
    "            return 20\n",
    "        elif val < 40:\n",
    "            return 30\n",
    "        elif val < 60:\n",
    "            return 40\n",
    "        elif val < 80:\n",
    "            return 60\n",
    "        elif val < 100:\n",
    "            return 80\n",
    "        else:\n",
    "            return 100\n",
    "    except:\n",
    "        return np.nan\n",
    "\n",
    "    \n",
    "# 연령대 그룹 (20, 30, 40, 60, 80, 100) 생성 후, Age group 컬럼 생성\n",
    "# chicago_df['Age group']=pd.Series(group_calculator(chicago_df['age_class']))\n",
    "chicago_df['Age group'] = chicago_df['age_class'].map(group_calculator)"
   ]
  },
  {
   "cell_type": "code",
   "execution_count": 351,
   "metadata": {},
   "outputs": [
    {
     "name": "stdout",
     "output_type": "stream",
     "text": [
      "<class 'pandas.core.frame.DataFrame'>\n",
      "Index: 26928 entries, 0 to 26999\n",
      "Data columns (total 33 columns):\n",
      " #   Column              Non-Null Count  Dtype          \n",
      "---  ------              --------------  -----          \n",
      " 0   Name                26928 non-null  object         \n",
      " 1   gender              26928 non-null  object         \n",
      " 2   country             26928 non-null  object         \n",
      " 3   Bib                 0 non-null      float64        \n",
      " 4   age_class           26861 non-null  float64        \n",
      " 5   finish_time         26928 non-null  object         \n",
      " 6   Gender              26928 non-null  int64          \n",
      " 7   Overall             26928 non-null  int64          \n",
      " 8   details_url         26928 non-null  object         \n",
      " 9   city_state          26927 non-null  object         \n",
      " 10  start.time          26928 non-null  object         \n",
      " 11  5K                  26805 non-null  timedelta64[ns]\n",
      " 12  10K                 26912 non-null  timedelta64[ns]\n",
      " 13  15K                 26916 non-null  timedelta64[ns]\n",
      " 14  20K                 26918 non-null  timedelta64[ns]\n",
      " 15  Half                26920 non-null  timedelta64[ns]\n",
      " 16  25K                 26921 non-null  timedelta64[ns]\n",
      " 17  30K                 26922 non-null  timedelta64[ns]\n",
      " 18  35K                 26923 non-null  timedelta64[ns]\n",
      " 19  40K                 26923 non-null  timedelta64[ns]\n",
      " 20  Official Time       26928 non-null  timedelta64[ns]\n",
      " 21  Official Time Hour  26928 non-null  float64        \n",
      " 22  Age group           26928 non-null  int64          \n",
      " 23  M/F                 26928 non-null  object         \n",
      " 24  5p                  26805 non-null  float64        \n",
      " 25  10p                 26912 non-null  float64        \n",
      " 26  15p                 26916 non-null  float64        \n",
      " 27  20p                 26918 non-null  float64        \n",
      " 28  Halfp               26920 non-null  float64        \n",
      " 29  25p                 26921 non-null  float64        \n",
      " 30  30p                 26922 non-null  float64        \n",
      " 31  35p                 26923 non-null  float64        \n",
      " 32  40p                 26923 non-null  float64        \n",
      "dtypes: float64(12), int64(3), object(8), timedelta64[ns](10)\n",
      "memory usage: 7.0+ MB\n"
     ]
    }
   ],
   "source": [
    "\n",
    "# 완주시간 결측값 제거\n",
    "chicago_df = chicago_df[chicago_df[\"Official Time\"].notna()]\n",
    "\n",
    "chicago_df.info()\n"
   ]
  },
  {
   "cell_type": "code",
   "execution_count": 352,
   "metadata": {},
   "outputs": [],
   "source": [
    "# 'Pace' 칼럼 추가 - 러닝 전체 평균 pace\n",
    "\n",
    "# 우선 Official Time을 시간 문자열(hh:mm:ss) → 분 단위 float 값으로 변환\n",
    "chicago_df[\"Official Time (min)\"] = pd.to_timedelta(chicago_df[\"Official Time\"]).dt.total_seconds() / 60\n",
    "\n",
    "# 전체 마라톤 거리로 나눠 평균 pace (분/km) 계산\n",
    "chicago_df[\"Pace\"] = chicago_df[\"Official Time (min)\"] / 42.195\n",
    "\n",
    "def format_pace(pace_float):\n",
    "    minutes = int(pace_float)\n",
    "    seconds = int(round((pace_float - minutes) * 60))\n",
    "    return f\"{minutes}:{seconds:02d}\"\n",
    "\n",
    "# 'pace' 컬럼을 문자열 형식으로 변환해서 새로운 컬럼으로 저장\n",
    "chicago_df[\"Pace\"] = chicago_df[\"Pace\"].apply(format_pace)\n",
    "\n"
   ]
  },
  {
   "cell_type": "code",
   "execution_count": 353,
   "metadata": {},
   "outputs": [
    {
     "name": "stdout",
     "output_type": "stream",
     "text": [
      "<class 'pandas.core.frame.DataFrame'>\n",
      "Index: 26928 entries, 0 to 26999\n",
      "Data columns (total 29 columns):\n",
      " #   Column              Non-Null Count  Dtype          \n",
      "---  ------              --------------  -----          \n",
      " 0   Name                26928 non-null  object         \n",
      " 1   Bib                 0 non-null      float64        \n",
      " 2   finish_time         26928 non-null  object         \n",
      " 3   Gender              26928 non-null  int64          \n",
      " 4   Overall             26928 non-null  int64          \n",
      " 5   city_state          26927 non-null  object         \n",
      " 6   5K                  26805 non-null  timedelta64[ns]\n",
      " 7   10K                 26912 non-null  timedelta64[ns]\n",
      " 8   15K                 26916 non-null  timedelta64[ns]\n",
      " 9   20K                 26918 non-null  timedelta64[ns]\n",
      " 10  Half                26920 non-null  timedelta64[ns]\n",
      " 11  25K                 26921 non-null  timedelta64[ns]\n",
      " 12  30K                 26922 non-null  timedelta64[ns]\n",
      " 13  35K                 26923 non-null  timedelta64[ns]\n",
      " 14  40K                 26923 non-null  timedelta64[ns]\n",
      " 15  Official Time       26928 non-null  timedelta64[ns]\n",
      " 16  Official Time Hour  26928 non-null  float64        \n",
      " 17  Age group           26928 non-null  int64          \n",
      " 18  M/F                 26928 non-null  object         \n",
      " 19  5p                  26805 non-null  float64        \n",
      " 20  10p                 26912 non-null  float64        \n",
      " 21  15p                 26916 non-null  float64        \n",
      " 22  20p                 26918 non-null  float64        \n",
      " 23  Halfp               26920 non-null  float64        \n",
      " 24  25p                 26921 non-null  float64        \n",
      " 25  30p                 26922 non-null  float64        \n",
      " 26  35p                 26923 non-null  float64        \n",
      " 27  40p                 26923 non-null  float64        \n",
      " 28  Pace                26928 non-null  object         \n",
      "dtypes: float64(11), int64(3), object(5), timedelta64[ns](10)\n",
      "memory usage: 6.2+ MB\n"
     ]
    }
   ],
   "source": [
    "chicago_df = chicago_df.drop(columns=['gender', 'age_class', 'Official Time (min)', 'country', 'details_url', 'start.time'])\n",
    "\n",
    "\n",
    "chicago_df.info()"
   ]
  },
  {
   "cell_type": "code",
   "execution_count": 354,
   "metadata": {},
   "outputs": [],
   "source": [
    "# 목표 그룹 함수 정의\n",
    "def time_group(t):\n",
    "    if t < 3.0:\n",
    "        return \"Sub-3\"\n",
    "    elif t < 4.0:\n",
    "        return \"Sub-4\"\n",
    "    elif t < 5.0:\n",
    "        return \"Sub-5\"\n",
    "    else:\n",
    "        return \"5h+\"\n",
    "\n",
    "# 그룹 컬럼 생성\n",
    "chicago_df['target_group'] = chicago_df['Official Time Hour'].apply(time_group)"
   ]
  },
  {
   "cell_type": "code",
   "execution_count": 355,
   "metadata": {},
   "outputs": [],
   "source": [
    "import numpy as np\n",
    "\n",
    "# 총 행 수\n",
    "num_rows = len(chicago_df)\n",
    "\n",
    "# 중복 없이 무작위 숫자 생성 (예: 100000 ~ 999999 사이)\n",
    "chicago_df[\"Bib\"] = np.random.choice(range(1, num_rows+1), size=num_rows, replace=False)\n"
   ]
  },
  {
   "cell_type": "code",
   "execution_count": 356,
   "metadata": {},
   "outputs": [
    {
     "ename": "PermissionError",
     "evalue": "[Errno 13] Permission denied: './data/chicago_data_processed.csv'",
     "output_type": "error",
     "traceback": [
      "\u001b[1;31m---------------------------------------------------------------------------\u001b[0m",
      "\u001b[1;31mPermissionError\u001b[0m                           Traceback (most recent call last)",
      "Cell \u001b[1;32mIn[356], line 2\u001b[0m\n\u001b[0;32m      1\u001b[0m \u001b[38;5;66;03m# 전처리 완료된 파일 저장\u001b[39;00m\n\u001b[1;32m----> 2\u001b[0m chicago_df\u001b[38;5;241m.\u001b[39mto_csv(\u001b[38;5;124m\"\u001b[39m\u001b[38;5;124m./data/chicago_data_processed.csv\u001b[39m\u001b[38;5;124m\"\u001b[39m, index\u001b[38;5;241m=\u001b[39m\u001b[38;5;28;01mFalse\u001b[39;00m)\n\u001b[0;32m      3\u001b[0m \u001b[38;5;28mprint\u001b[39m(\u001b[38;5;124m\"\u001b[39m\u001b[38;5;124m[✓] chicago_data_processed.csv 저장 완료\u001b[39m\u001b[38;5;124m\"\u001b[39m)\n",
      "File \u001b[1;32me:\\anaconda\\envs\\ml_venu\\Lib\\site-packages\\pandas\\util\\_decorators.py:333\u001b[0m, in \u001b[0;36mdeprecate_nonkeyword_arguments.<locals>.decorate.<locals>.wrapper\u001b[1;34m(*args, **kwargs)\u001b[0m\n\u001b[0;32m    327\u001b[0m \u001b[38;5;28;01mif\u001b[39;00m \u001b[38;5;28mlen\u001b[39m(args) \u001b[38;5;241m>\u001b[39m num_allow_args:\n\u001b[0;32m    328\u001b[0m     warnings\u001b[38;5;241m.\u001b[39mwarn(\n\u001b[0;32m    329\u001b[0m         msg\u001b[38;5;241m.\u001b[39mformat(arguments\u001b[38;5;241m=\u001b[39m_format_argument_list(allow_args)),\n\u001b[0;32m    330\u001b[0m         \u001b[38;5;167;01mFutureWarning\u001b[39;00m,\n\u001b[0;32m    331\u001b[0m         stacklevel\u001b[38;5;241m=\u001b[39mfind_stack_level(),\n\u001b[0;32m    332\u001b[0m     )\n\u001b[1;32m--> 333\u001b[0m \u001b[38;5;28;01mreturn\u001b[39;00m func(\u001b[38;5;241m*\u001b[39margs, \u001b[38;5;241m*\u001b[39m\u001b[38;5;241m*\u001b[39mkwargs)\n",
      "File \u001b[1;32me:\\anaconda\\envs\\ml_venu\\Lib\\site-packages\\pandas\\core\\generic.py:3967\u001b[0m, in \u001b[0;36mNDFrame.to_csv\u001b[1;34m(self, path_or_buf, sep, na_rep, float_format, columns, header, index, index_label, mode, encoding, compression, quoting, quotechar, lineterminator, chunksize, date_format, doublequote, escapechar, decimal, errors, storage_options)\u001b[0m\n\u001b[0;32m   3956\u001b[0m df \u001b[38;5;241m=\u001b[39m \u001b[38;5;28mself\u001b[39m \u001b[38;5;28;01mif\u001b[39;00m \u001b[38;5;28misinstance\u001b[39m(\u001b[38;5;28mself\u001b[39m, ABCDataFrame) \u001b[38;5;28;01melse\u001b[39;00m \u001b[38;5;28mself\u001b[39m\u001b[38;5;241m.\u001b[39mto_frame()\n\u001b[0;32m   3958\u001b[0m formatter \u001b[38;5;241m=\u001b[39m DataFrameFormatter(\n\u001b[0;32m   3959\u001b[0m     frame\u001b[38;5;241m=\u001b[39mdf,\n\u001b[0;32m   3960\u001b[0m     header\u001b[38;5;241m=\u001b[39mheader,\n\u001b[1;32m   (...)\u001b[0m\n\u001b[0;32m   3964\u001b[0m     decimal\u001b[38;5;241m=\u001b[39mdecimal,\n\u001b[0;32m   3965\u001b[0m )\n\u001b[1;32m-> 3967\u001b[0m \u001b[38;5;28;01mreturn\u001b[39;00m DataFrameRenderer(formatter)\u001b[38;5;241m.\u001b[39mto_csv(\n\u001b[0;32m   3968\u001b[0m     path_or_buf,\n\u001b[0;32m   3969\u001b[0m     lineterminator\u001b[38;5;241m=\u001b[39mlineterminator,\n\u001b[0;32m   3970\u001b[0m     sep\u001b[38;5;241m=\u001b[39msep,\n\u001b[0;32m   3971\u001b[0m     encoding\u001b[38;5;241m=\u001b[39mencoding,\n\u001b[0;32m   3972\u001b[0m     errors\u001b[38;5;241m=\u001b[39merrors,\n\u001b[0;32m   3973\u001b[0m     compression\u001b[38;5;241m=\u001b[39mcompression,\n\u001b[0;32m   3974\u001b[0m     quoting\u001b[38;5;241m=\u001b[39mquoting,\n\u001b[0;32m   3975\u001b[0m     columns\u001b[38;5;241m=\u001b[39mcolumns,\n\u001b[0;32m   3976\u001b[0m     index_label\u001b[38;5;241m=\u001b[39mindex_label,\n\u001b[0;32m   3977\u001b[0m     mode\u001b[38;5;241m=\u001b[39mmode,\n\u001b[0;32m   3978\u001b[0m     chunksize\u001b[38;5;241m=\u001b[39mchunksize,\n\u001b[0;32m   3979\u001b[0m     quotechar\u001b[38;5;241m=\u001b[39mquotechar,\n\u001b[0;32m   3980\u001b[0m     date_format\u001b[38;5;241m=\u001b[39mdate_format,\n\u001b[0;32m   3981\u001b[0m     doublequote\u001b[38;5;241m=\u001b[39mdoublequote,\n\u001b[0;32m   3982\u001b[0m     escapechar\u001b[38;5;241m=\u001b[39mescapechar,\n\u001b[0;32m   3983\u001b[0m     storage_options\u001b[38;5;241m=\u001b[39mstorage_options,\n\u001b[0;32m   3984\u001b[0m )\n",
      "File \u001b[1;32me:\\anaconda\\envs\\ml_venu\\Lib\\site-packages\\pandas\\io\\formats\\format.py:1014\u001b[0m, in \u001b[0;36mDataFrameRenderer.to_csv\u001b[1;34m(self, path_or_buf, encoding, sep, columns, index_label, mode, compression, quoting, quotechar, lineterminator, chunksize, date_format, doublequote, escapechar, errors, storage_options)\u001b[0m\n\u001b[0;32m    993\u001b[0m     created_buffer \u001b[38;5;241m=\u001b[39m \u001b[38;5;28;01mFalse\u001b[39;00m\n\u001b[0;32m    995\u001b[0m csv_formatter \u001b[38;5;241m=\u001b[39m CSVFormatter(\n\u001b[0;32m    996\u001b[0m     path_or_buf\u001b[38;5;241m=\u001b[39mpath_or_buf,\n\u001b[0;32m    997\u001b[0m     lineterminator\u001b[38;5;241m=\u001b[39mlineterminator,\n\u001b[1;32m   (...)\u001b[0m\n\u001b[0;32m   1012\u001b[0m     formatter\u001b[38;5;241m=\u001b[39m\u001b[38;5;28mself\u001b[39m\u001b[38;5;241m.\u001b[39mfmt,\n\u001b[0;32m   1013\u001b[0m )\n\u001b[1;32m-> 1014\u001b[0m csv_formatter\u001b[38;5;241m.\u001b[39msave()\n\u001b[0;32m   1016\u001b[0m \u001b[38;5;28;01mif\u001b[39;00m created_buffer:\n\u001b[0;32m   1017\u001b[0m     \u001b[38;5;28;01massert\u001b[39;00m \u001b[38;5;28misinstance\u001b[39m(path_or_buf, StringIO)\n",
      "File \u001b[1;32me:\\anaconda\\envs\\ml_venu\\Lib\\site-packages\\pandas\\io\\formats\\csvs.py:251\u001b[0m, in \u001b[0;36mCSVFormatter.save\u001b[1;34m(self)\u001b[0m\n\u001b[0;32m    247\u001b[0m \u001b[38;5;250m\u001b[39m\u001b[38;5;124;03m\"\"\"\u001b[39;00m\n\u001b[0;32m    248\u001b[0m \u001b[38;5;124;03mCreate the writer & save.\u001b[39;00m\n\u001b[0;32m    249\u001b[0m \u001b[38;5;124;03m\"\"\"\u001b[39;00m\n\u001b[0;32m    250\u001b[0m \u001b[38;5;66;03m# apply compression and byte/text conversion\u001b[39;00m\n\u001b[1;32m--> 251\u001b[0m \u001b[38;5;28;01mwith\u001b[39;00m get_handle(\n\u001b[0;32m    252\u001b[0m     \u001b[38;5;28mself\u001b[39m\u001b[38;5;241m.\u001b[39mfilepath_or_buffer,\n\u001b[0;32m    253\u001b[0m     \u001b[38;5;28mself\u001b[39m\u001b[38;5;241m.\u001b[39mmode,\n\u001b[0;32m    254\u001b[0m     encoding\u001b[38;5;241m=\u001b[39m\u001b[38;5;28mself\u001b[39m\u001b[38;5;241m.\u001b[39mencoding,\n\u001b[0;32m    255\u001b[0m     errors\u001b[38;5;241m=\u001b[39m\u001b[38;5;28mself\u001b[39m\u001b[38;5;241m.\u001b[39merrors,\n\u001b[0;32m    256\u001b[0m     compression\u001b[38;5;241m=\u001b[39m\u001b[38;5;28mself\u001b[39m\u001b[38;5;241m.\u001b[39mcompression,\n\u001b[0;32m    257\u001b[0m     storage_options\u001b[38;5;241m=\u001b[39m\u001b[38;5;28mself\u001b[39m\u001b[38;5;241m.\u001b[39mstorage_options,\n\u001b[0;32m    258\u001b[0m ) \u001b[38;5;28;01mas\u001b[39;00m handles:\n\u001b[0;32m    259\u001b[0m     \u001b[38;5;66;03m# Note: self.encoding is irrelevant here\u001b[39;00m\n\u001b[0;32m    260\u001b[0m     \u001b[38;5;28mself\u001b[39m\u001b[38;5;241m.\u001b[39mwriter \u001b[38;5;241m=\u001b[39m csvlib\u001b[38;5;241m.\u001b[39mwriter(\n\u001b[0;32m    261\u001b[0m         handles\u001b[38;5;241m.\u001b[39mhandle,\n\u001b[0;32m    262\u001b[0m         lineterminator\u001b[38;5;241m=\u001b[39m\u001b[38;5;28mself\u001b[39m\u001b[38;5;241m.\u001b[39mlineterminator,\n\u001b[1;32m   (...)\u001b[0m\n\u001b[0;32m    267\u001b[0m         quotechar\u001b[38;5;241m=\u001b[39m\u001b[38;5;28mself\u001b[39m\u001b[38;5;241m.\u001b[39mquotechar,\n\u001b[0;32m    268\u001b[0m     )\n\u001b[0;32m    270\u001b[0m     \u001b[38;5;28mself\u001b[39m\u001b[38;5;241m.\u001b[39m_save()\n",
      "File \u001b[1;32me:\\anaconda\\envs\\ml_venu\\Lib\\site-packages\\pandas\\io\\common.py:873\u001b[0m, in \u001b[0;36mget_handle\u001b[1;34m(path_or_buf, mode, encoding, compression, memory_map, is_text, errors, storage_options)\u001b[0m\n\u001b[0;32m    868\u001b[0m \u001b[38;5;28;01melif\u001b[39;00m \u001b[38;5;28misinstance\u001b[39m(handle, \u001b[38;5;28mstr\u001b[39m):\n\u001b[0;32m    869\u001b[0m     \u001b[38;5;66;03m# Check whether the filename is to be opened in binary mode.\u001b[39;00m\n\u001b[0;32m    870\u001b[0m     \u001b[38;5;66;03m# Binary mode does not support 'encoding' and 'newline'.\u001b[39;00m\n\u001b[0;32m    871\u001b[0m     \u001b[38;5;28;01mif\u001b[39;00m ioargs\u001b[38;5;241m.\u001b[39mencoding \u001b[38;5;129;01mand\u001b[39;00m \u001b[38;5;124m\"\u001b[39m\u001b[38;5;124mb\u001b[39m\u001b[38;5;124m\"\u001b[39m \u001b[38;5;129;01mnot\u001b[39;00m \u001b[38;5;129;01min\u001b[39;00m ioargs\u001b[38;5;241m.\u001b[39mmode:\n\u001b[0;32m    872\u001b[0m         \u001b[38;5;66;03m# Encoding\u001b[39;00m\n\u001b[1;32m--> 873\u001b[0m         handle \u001b[38;5;241m=\u001b[39m \u001b[38;5;28mopen\u001b[39m(\n\u001b[0;32m    874\u001b[0m             handle,\n\u001b[0;32m    875\u001b[0m             ioargs\u001b[38;5;241m.\u001b[39mmode,\n\u001b[0;32m    876\u001b[0m             encoding\u001b[38;5;241m=\u001b[39mioargs\u001b[38;5;241m.\u001b[39mencoding,\n\u001b[0;32m    877\u001b[0m             errors\u001b[38;5;241m=\u001b[39merrors,\n\u001b[0;32m    878\u001b[0m             newline\u001b[38;5;241m=\u001b[39m\u001b[38;5;124m\"\u001b[39m\u001b[38;5;124m\"\u001b[39m,\n\u001b[0;32m    879\u001b[0m         )\n\u001b[0;32m    880\u001b[0m     \u001b[38;5;28;01melse\u001b[39;00m:\n\u001b[0;32m    881\u001b[0m         \u001b[38;5;66;03m# Binary mode\u001b[39;00m\n\u001b[0;32m    882\u001b[0m         handle \u001b[38;5;241m=\u001b[39m \u001b[38;5;28mopen\u001b[39m(handle, ioargs\u001b[38;5;241m.\u001b[39mmode)\n",
      "\u001b[1;31mPermissionError\u001b[0m: [Errno 13] Permission denied: './data/chicago_data_processed.csv'"
     ]
    }
   ],
   "source": [
    "# 전처리 완료된 파일 저장\n",
    "chicago_df.to_csv(\"./data/chicago_data_processed.csv\", index=False)\n",
    "print(\"[✓] chicago_data_processed.csv 저장 완료\")"
   ]
  },
  {
   "cell_type": "code",
   "execution_count": null,
   "metadata": {},
   "outputs": [],
   "source": []
  },
  {
   "cell_type": "code",
   "execution_count": null,
   "metadata": {},
   "outputs": [],
   "source": []
  },
  {
   "cell_type": "code",
   "execution_count": null,
   "metadata": {},
   "outputs": [],
   "source": []
  }
 ],
 "metadata": {
  "kernelspec": {
   "display_name": "ml_venu",
   "language": "python",
   "name": "python3"
  },
  "language_info": {
   "codemirror_mode": {
    "name": "ipython",
    "version": 3
   },
   "file_extension": ".py",
   "mimetype": "text/x-python",
   "name": "python",
   "nbconvert_exporter": "python",
   "pygments_lexer": "ipython3",
   "version": "3.12.5"
  }
 },
 "nbformat": 4,
 "nbformat_minor": 2
}
