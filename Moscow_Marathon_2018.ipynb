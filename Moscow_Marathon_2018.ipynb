{
 "cells": [
  {
   "cell_type": "markdown",
   "id": "31d72f41-2584-4fbd-b508-312ee9a159a8",
   "metadata": {},
   "source": [
    "# Moscow Marathon Full Results 2018\n",
    "\n",
    "\n",
    "## 1_full_results_mm_2018.csv\n",
    "\n",
    "Columns : {Bib, finish_time_sec, finish_time_result, race, pace_sec, pace(minpkm), pace(kmph), half_pace_sec, half_pace(minpkm), half_pace(kmph), gender_en, agev name_en, location_city_ru, location_city_en, country_code_alpha_3, flag_DNF, flag_all_split_exist, race_uniform_index}\n",
    "\n",
    "Data : {1, 8911, 2h 28min 31sec, 42.195 km, 211.1861595, 3:31 min/km 17.0 km/h, 208.3185212, 3:28 min/km, 17.3 km/h, Female, 30, Sardana Trofimova, –Ø–∫—É—Ç—Å–∫, Yakutsk, RUS, 0, 1, 0.000132899}\n",
    "\n",
    "## 1_split_results_mm_2018.csv\n",
    "\n",
    "Columns : {bib, split_name, split, split_time_sec, split_time_result, split_pace_sec, split_pace(minpkm), split_pace(kmph), split_uniform_index}\n",
    "\n",
    "Data : {11, Kirui, Geoffrey, 24, M, Keringet, KEN, 0:15:25, 0:30:28, 0:45:44, 1:01:15, 1:04:35, 1:16:59, 1:33:01, 1:48:19, 2:02:53, 0:04:57, - 2:09:37, 1, 1, 11}"
   ]
  },
  {
   "cell_type": "code",
   "execution_count": 143,
   "id": "e33c85c6-73ed-40fe-9c48-148bc667b0bd",
   "metadata": {},
   "outputs": [],
   "source": [
    "from datetime import datetime\n",
    "import numpy as np\n",
    "import pandas as pd\n",
    "import seaborn as sns\n",
    "import pandas as pd\n",
    "\n",
    "import sklearn as sk\n",
    "import sklearn.tree as tree\n",
    "from IPython.display import Image  "
   ]
  },
  {
   "cell_type": "code",
   "execution_count": 145,
   "id": "26cf1db8-20bc-4d27-b9d8-1b05922d6e12",
   "metadata": {},
   "outputs": [],
   "source": [
    "full_df  = pd.read_csv('./data/1_full_results_mm_2018.csv')\n",
    "split_df = pd.read_csv('./data/1_split_results_mm_2018.csv')"
   ]
  },
  {
   "cell_type": "code",
   "execution_count": 147,
   "id": "7aa40951-8eeb-4dfe-befb-c0c54e2bb256",
   "metadata": {},
   "outputs": [
    {
     "data": {
      "text/html": [
       "<div>\n",
       "<style scoped>\n",
       "    .dataframe tbody tr th:only-of-type {\n",
       "        vertical-align: middle;\n",
       "    }\n",
       "\n",
       "    .dataframe tbody tr th {\n",
       "        vertical-align: top;\n",
       "    }\n",
       "\n",
       "    .dataframe thead th {\n",
       "        text-align: right;\n",
       "    }\n",
       "</style>\n",
       "<table border=\"1\" class=\"dataframe\">\n",
       "  <thead>\n",
       "    <tr style=\"text-align: right;\">\n",
       "      <th></th>\n",
       "      <th>bib</th>\n",
       "      <th>finish_time_sec</th>\n",
       "      <th>finish_time_result</th>\n",
       "      <th>race</th>\n",
       "      <th>pace_sec</th>\n",
       "      <th>pace(minpkm)</th>\n",
       "      <th>pace(kmph)</th>\n",
       "      <th>half_pace_sec</th>\n",
       "      <th>half_pace(minpkm)</th>\n",
       "      <th>half_pace(kmph)</th>\n",
       "      <th>gender_en</th>\n",
       "      <th>age</th>\n",
       "      <th>name_en</th>\n",
       "      <th>location_city_ru</th>\n",
       "      <th>location_city_en</th>\n",
       "      <th>country_code_alpha_3</th>\n",
       "      <th>flag_DNF</th>\n",
       "      <th>flag_all_split_exist</th>\n",
       "      <th>race_uniform_index</th>\n",
       "    </tr>\n",
       "  </thead>\n",
       "  <tbody>\n",
       "    <tr>\n",
       "      <th>0</th>\n",
       "      <td>1</td>\n",
       "      <td>8911.0</td>\n",
       "      <td>2h 28min 31sec</td>\n",
       "      <td>42.195 km</td>\n",
       "      <td>211.186159</td>\n",
       "      <td>3:31 min/km</td>\n",
       "      <td>17.0 km/h</td>\n",
       "      <td>208.318521</td>\n",
       "      <td>3:28 min/km</td>\n",
       "      <td>17.3 km/h</td>\n",
       "      <td>Female</td>\n",
       "      <td>30</td>\n",
       "      <td>Sardana Trofimova</td>\n",
       "      <td>Якутск</td>\n",
       "      <td>Yakutsk</td>\n",
       "      <td>RUS</td>\n",
       "      <td>0</td>\n",
       "      <td>1</td>\n",
       "      <td>0.000133</td>\n",
       "    </tr>\n",
       "    <tr>\n",
       "      <th>1</th>\n",
       "      <td>2</td>\n",
       "      <td>9308.0</td>\n",
       "      <td>2h 35min 08sec</td>\n",
       "      <td>42.195 km</td>\n",
       "      <td>220.594857</td>\n",
       "      <td>3:40 min/km</td>\n",
       "      <td>16.3 km/h</td>\n",
       "      <td>212.157839</td>\n",
       "      <td>3:32 min/km</td>\n",
       "      <td>17.0 km/h</td>\n",
       "      <td>Female</td>\n",
       "      <td>35</td>\n",
       "      <td>Tat'yana Arkhipova</td>\n",
       "      <td>Чебоксары</td>\n",
       "      <td>Cheboksary</td>\n",
       "      <td>RUS</td>\n",
       "      <td>0</td>\n",
       "      <td>1</td>\n",
       "      <td>0.002556</td>\n",
       "    </tr>\n",
       "    <tr>\n",
       "      <th>2</th>\n",
       "      <td>3</td>\n",
       "      <td>8122.0</td>\n",
       "      <td>2h 15min 22sec</td>\n",
       "      <td>42.195 km</td>\n",
       "      <td>192.487262</td>\n",
       "      <td>3:12 min/km</td>\n",
       "      <td>18.7 km/h</td>\n",
       "      <td>189.880318</td>\n",
       "      <td>3:09 min/km</td>\n",
       "      <td>19.0 km/h</td>\n",
       "      <td>Male</td>\n",
       "      <td>31</td>\n",
       "      <td>Stepan Kiselev</td>\n",
       "      <td>Казань</td>\n",
       "      <td>Kazan'</td>\n",
       "      <td>RUS</td>\n",
       "      <td>0</td>\n",
       "      <td>1</td>\n",
       "      <td>0.000397</td>\n",
       "    </tr>\n",
       "    <tr>\n",
       "      <th>3</th>\n",
       "      <td>4</td>\n",
       "      <td>8467.0</td>\n",
       "      <td>2h 21min 07sec</td>\n",
       "      <td>42.195 km</td>\n",
       "      <td>200.663586</td>\n",
       "      <td>3:20 min/km</td>\n",
       "      <td>17.9 km/h</td>\n",
       "      <td>186.894182</td>\n",
       "      <td>3:06 min/km</td>\n",
       "      <td>19.3 km/h</td>\n",
       "      <td>Male</td>\n",
       "      <td>36</td>\n",
       "      <td>Dmitriy Safronov</td>\n",
       "      <td>Москва</td>\n",
       "      <td>Moskva</td>\n",
       "      <td>RUS</td>\n",
       "      <td>0</td>\n",
       "      <td>1</td>\n",
       "      <td>0.009003</td>\n",
       "    </tr>\n",
       "    <tr>\n",
       "      <th>4</th>\n",
       "      <td>5</td>\n",
       "      <td>8738.0</td>\n",
       "      <td>2h 25min 38sec</td>\n",
       "      <td>42.195 km</td>\n",
       "      <td>207.086148</td>\n",
       "      <td>3:27 min/km</td>\n",
       "      <td>17.4 km/h</td>\n",
       "      <td>194.904610</td>\n",
       "      <td>3:14 min/km</td>\n",
       "      <td>18.5 km/h</td>\n",
       "      <td>Male</td>\n",
       "      <td>42</td>\n",
       "      <td>Grigoriy Andreev</td>\n",
       "      <td>Уфа</td>\n",
       "      <td>Ufa</td>\n",
       "      <td>RUS</td>\n",
       "      <td>0</td>\n",
       "      <td>1</td>\n",
       "      <td>0.006439</td>\n",
       "    </tr>\n",
       "  </tbody>\n",
       "</table>\n",
       "</div>"
      ],
      "text/plain": [
       "   bib  finish_time_sec finish_time_result       race    pace_sec  \\\n",
       "0    1           8911.0     2h 28min 31sec  42.195 km  211.186159   \n",
       "1    2           9308.0     2h 35min 08sec  42.195 km  220.594857   \n",
       "2    3           8122.0     2h 15min 22sec  42.195 km  192.487262   \n",
       "3    4           8467.0     2h 21min 07sec  42.195 km  200.663586   \n",
       "4    5           8738.0     2h 25min 38sec  42.195 km  207.086148   \n",
       "\n",
       "  pace(minpkm) pace(kmph)  half_pace_sec half_pace(minpkm) half_pace(kmph)  \\\n",
       "0  3:31 min/km  17.0 km/h     208.318521       3:28 min/km       17.3 km/h   \n",
       "1  3:40 min/km  16.3 km/h     212.157839       3:32 min/km       17.0 km/h   \n",
       "2  3:12 min/km  18.7 km/h     189.880318       3:09 min/km       19.0 km/h   \n",
       "3  3:20 min/km  17.9 km/h     186.894182       3:06 min/km       19.3 km/h   \n",
       "4  3:27 min/km  17.4 km/h     194.904610       3:14 min/km       18.5 km/h   \n",
       "\n",
       "  gender_en  age             name_en location_city_ru location_city_en  \\\n",
       "0    Female   30   Sardana Trofimova           Якутск          Yakutsk   \n",
       "1    Female   35  Tat'yana Arkhipova        Чебоксары       Cheboksary   \n",
       "2      Male   31      Stepan Kiselev           Казань           Kazan'   \n",
       "3      Male   36    Dmitriy Safronov           Москва           Moskva   \n",
       "4      Male   42    Grigoriy Andreev              Уфа              Ufa   \n",
       "\n",
       "  country_code_alpha_3  flag_DNF  flag_all_split_exist  race_uniform_index  \n",
       "0                  RUS         0                     1            0.000133  \n",
       "1                  RUS         0                     1            0.002556  \n",
       "2                  RUS         0                     1            0.000397  \n",
       "3                  RUS         0                     1            0.009003  \n",
       "4                  RUS         0                     1            0.006439  "
      ]
     },
     "execution_count": 147,
     "metadata": {},
     "output_type": "execute_result"
    }
   ],
   "source": [
    "full_df.head()"
   ]
  },
  {
   "cell_type": "code",
   "execution_count": 149,
   "id": "3e56b361-19b8-44b8-afb7-44c5959809e7",
   "metadata": {},
   "outputs": [
    {
     "data": {
      "text/html": [
       "<div>\n",
       "<style scoped>\n",
       "    .dataframe tbody tr th:only-of-type {\n",
       "        vertical-align: middle;\n",
       "    }\n",
       "\n",
       "    .dataframe tbody tr th {\n",
       "        vertical-align: top;\n",
       "    }\n",
       "\n",
       "    .dataframe thead th {\n",
       "        text-align: right;\n",
       "    }\n",
       "</style>\n",
       "<table border=\"1\" class=\"dataframe\">\n",
       "  <thead>\n",
       "    <tr style=\"text-align: right;\">\n",
       "      <th></th>\n",
       "      <th>bib</th>\n",
       "      <th>split_name</th>\n",
       "      <th>split</th>\n",
       "      <th>split_time_sec</th>\n",
       "      <th>split_time_result</th>\n",
       "      <th>split_pace_sec</th>\n",
       "      <th>split_pace(minpkm)</th>\n",
       "      <th>split_pace(kmph)</th>\n",
       "      <th>split_uniform_index</th>\n",
       "    </tr>\n",
       "  </thead>\n",
       "  <tbody>\n",
       "    <tr>\n",
       "      <th>0</th>\n",
       "      <td>1</td>\n",
       "      <td>5 km</td>\n",
       "      <td>5.0000</td>\n",
       "      <td>1057</td>\n",
       "      <td>17min 37sec</td>\n",
       "      <td>211.400000</td>\n",
       "      <td>3:31 min/km</td>\n",
       "      <td>17.0 km/h</td>\n",
       "      <td>1.214334e-07</td>\n",
       "    </tr>\n",
       "    <tr>\n",
       "      <th>1</th>\n",
       "      <td>1</td>\n",
       "      <td>10 km</td>\n",
       "      <td>10.0000</td>\n",
       "      <td>2112</td>\n",
       "      <td>35min 12sec</td>\n",
       "      <td>211.000000</td>\n",
       "      <td>3:30 min/km</td>\n",
       "      <td>17.1 km/h</td>\n",
       "      <td>1.017882e-09</td>\n",
       "    </tr>\n",
       "    <tr>\n",
       "      <th>2</th>\n",
       "      <td>1</td>\n",
       "      <td>15 km</td>\n",
       "      <td>15.0000</td>\n",
       "      <td>3149</td>\n",
       "      <td>52min 29sec</td>\n",
       "      <td>207.400000</td>\n",
       "      <td>3:27 min/km</td>\n",
       "      <td>17.4 km/h</td>\n",
       "      <td>1.254794e-05</td>\n",
       "    </tr>\n",
       "    <tr>\n",
       "      <th>3</th>\n",
       "      <td>1</td>\n",
       "      <td>Half marathon</td>\n",
       "      <td>21.0975</td>\n",
       "      <td>4395</td>\n",
       "      <td>1h 13min 15sec</td>\n",
       "      <td>204.346043</td>\n",
       "      <td>3:24 min/km</td>\n",
       "      <td>17.6 km/h</td>\n",
       "      <td>9.282250e-05</td>\n",
       "    </tr>\n",
       "    <tr>\n",
       "      <th>4</th>\n",
       "      <td>1</td>\n",
       "      <td>25 km</td>\n",
       "      <td>25.0000</td>\n",
       "      <td>5258</td>\n",
       "      <td>1h 27min 38sec</td>\n",
       "      <td>221.140295</td>\n",
       "      <td>3:41 min/km</td>\n",
       "      <td>16.3 km/h</td>\n",
       "      <td>9.987022e-06</td>\n",
       "    </tr>\n",
       "  </tbody>\n",
       "</table>\n",
       "</div>"
      ],
      "text/plain": [
       "   bib     split_name    split  split_time_sec split_time_result  \\\n",
       "0    1           5 km   5.0000            1057       17min 37sec   \n",
       "1    1          10 km  10.0000            2112       35min 12sec   \n",
       "2    1          15 km  15.0000            3149       52min 29sec   \n",
       "3    1  Half marathon  21.0975            4395    1h 13min 15sec   \n",
       "4    1          25 km  25.0000            5258    1h 27min 38sec   \n",
       "\n",
       "   split_pace_sec split_pace(minpkm) split_pace(kmph)  split_uniform_index  \n",
       "0      211.400000        3:31 min/km        17.0 km/h         1.214334e-07  \n",
       "1      211.000000        3:30 min/km        17.1 km/h         1.017882e-09  \n",
       "2      207.400000        3:27 min/km        17.4 km/h         1.254794e-05  \n",
       "3      204.346043        3:24 min/km        17.6 km/h         9.282250e-05  \n",
       "4      221.140295        3:41 min/km        16.3 km/h         9.987022e-06  "
      ]
     },
     "execution_count": 149,
     "metadata": {},
     "output_type": "execute_result"
    }
   ],
   "source": [
    "split_df.head()"
   ]
  },
  {
   "cell_type": "code",
   "execution_count": 151,
   "id": "64845315-41dd-4abb-b8b8-744053a90d7f",
   "metadata": {},
   "outputs": [],
   "source": [
    "# 구간별 split 시간 pivot\n",
    "split_time = split_df.pivot_table(index='bib', columns='split_name', values='split_time_sec')\n",
    "split_time.columns = [col.replace(' ', '').replace('km', 'K') if 'km' in col else col.lower() for col in split_time.columns]\n",
    "split_time.reset_index(inplace=True)"
   ]
  },
  {
   "cell_type": "code",
   "execution_count": 153,
   "id": "5addd1ed-8110-4ed1-9f92-8cb5e5a3c162",
   "metadata": {},
   "outputs": [],
   "source": [
    "# pace(p) 데이터를 \"분:초\" 문자열로 wide-format 생성\n",
    "def sec_to_minsec(sec):\n",
    "    if pd.isnull(sec):\n",
    "        return None\n",
    "    minutes = int(sec // 60)\n",
    "    seconds = int(sec % 60)\n",
    "    return f\"{minutes}:{seconds:02d}\""
   ]
  },
  {
   "cell_type": "code",
   "execution_count": 155,
   "id": "043eadbf-d7a6-46cc-a52c-6235e805c940",
   "metadata": {},
   "outputs": [
    {
     "name": "stderr",
     "output_type": "stream",
     "text": [
      "/var/folders/6m/mc6f2cbd0y96kqwywtrhvss40000gn/T/ipykernel_75190/2134712935.py:4: FutureWarning: DataFrame.applymap has been deprecated. Use DataFrame.map instead.\n",
      "  split_pace = split_pace.applymap(sec_to_minsec)\n"
     ]
    }
   ],
   "source": [
    "# split_pace_sec → wide-format + 문자열 변환\n",
    "split_pace = split_df.pivot_table(index='bib', columns='split_name', values='split_pace_sec')\n",
    "split_pace.columns = [col.replace(' km', '').replace('Half marathon', '21').replace('Marathon', '42') + 'p' for col in split_pace.columns]\n",
    "split_pace = split_pace.applymap(sec_to_minsec)\n",
    "split_pace.reset_index(inplace=True)"
   ]
  },
  {
   "cell_type": "code",
   "execution_count": 157,
   "id": "eedc419c-3439-403b-bc83-c2f98b6f2d53",
   "metadata": {},
   "outputs": [],
   "source": [
    "# full_df에서 필요한 컬럼 정리\n",
    "rename_map = {\n",
    "    'bib': 'Bib',\n",
    "    'name_en': 'Name',\n",
    "    'age': 'Age',\n",
    "    'gender_en': 'M/F',\n",
    "    'location_city_en': 'City',\n",
    "    'country_code_alpha_3': 'Country',\n",
    "    'finish_time_sec': 'Official Time Sec'\n",
    "}\n",
    "reduced_df = full_df[list(rename_map.keys())].rename(columns=rename_map)\n",
    "\n",
    "# 시간(hh:mm:ss) 추가\n",
    "reduced_df['Official Time Hour'] = pd.to_timedelta(reduced_df['Official Time Sec'], unit='s')\n"
   ]
  },
  {
   "cell_type": "code",
   "execution_count": 159,
   "id": "e78b8caf-e6e6-4657-aa30-f8b2f2a7d83b",
   "metadata": {},
   "outputs": [],
   "source": [
    "# 데이터 병합\n",
    "merged = reduced_df.merge(split_time, how='left', left_on='Bib', right_on='bib')\n",
    "merged = merged.merge(split_pace, how='left', on='bib')\n",
    "merged.drop(columns=['bib'], inplace=True)\n"
   ]
  },
  {
   "cell_type": "code",
   "execution_count": 161,
   "id": "435f1794-3318-4fd8-bb03-f60e36dc5ff5",
   "metadata": {},
   "outputs": [
    {
     "name": "stdout",
     "output_type": "stream",
     "text": [
      "   Bib                Name  Age     M/F        City Country      5K     10K  \\\n",
      "0    1   Sardana Trofimova   30  Female     Yakutsk     RUS  1057.0  2112.0   \n",
      "1    2  Tat'yana Arkhipova   35  Female  Cheboksary     RUS  1059.0  2115.0   \n",
      "2    3      Stepan Kiselev   31    Male      Kazan'     RUS   947.0  1899.0   \n",
      "3    4    Dmitriy Safronov   36    Male      Moskva     RUS   945.0  1876.0   \n",
      "4    5    Grigoriy Andreev   42    Male         Ufa     RUS   976.0  1958.0   \n",
      "\n",
      "      15K     25K  ...  Official Time Hour    5p   10p   15p   21p   25p  \\\n",
      "0  3149.0  5258.0  ...     0 days 02:28:31  3:31  3:31  3:27  3:24  3:41   \n",
      "1  3188.0  5386.0  ...     0 days 02:35:08  3:31  3:31  3:34  3:31  3:53   \n",
      "2  2867.0  4796.0  ...     0 days 02:15:22  3:09  3:10  3:13  3:06  3:22   \n",
      "3  2814.0  4752.0  ...     0 days 02:21:07  3:09  3:06  3:07  3:05  3:27   \n",
      "4  2933.0  4949.0  ...     0 days 02:25:38  3:15  3:16  3:15  3:13  3:34   \n",
      "\n",
      "    30p   35p   40p   42p  \n",
      "0  3:32  3:28  3:36  3:33  \n",
      "1  3:44  3:40  3:55  3:58  \n",
      "2  3:18  2:49  3:34  3:10  \n",
      "3  3:25  3:29  3:48  3:47  \n",
      "4  3:33  3:33  3:51  3:49  \n",
      "\n",
      "[5 rows x 23 columns]\n"
     ]
    }
   ],
   "source": [
    "# 정렬 및 출력 확인\n",
    "columns_order = ['Bib', 'Name', 'Age', 'M/F', 'City', 'Country'] + \\\n",
    "                ['5K', '10K', '15K', '20K', '25K', '30K', '35K', '40K', 'Marathon'] + \\\n",
    "                ['Official Time Hour'] + \\\n",
    "                ['5p', '10p', '15p', '20p', '21p', '25p', '30p', '35p', '40p', '42p']\n",
    "\n",
    "# 컬럼 누락 방지 (존재하는 컬럼만 포함)\n",
    "columns_order = [col for col in columns_order if col in merged.columns]\n",
    "\n",
    "# 결과 저장 or 출력\n",
    "final_df = merged[columns_order]\n",
    "print(final_df.head())"
   ]
  },
  {
   "cell_type": "code",
   "execution_count": 163,
   "id": "bf347485-0e31-4984-b327-c6a744330cda",
   "metadata": {},
   "outputs": [
    {
     "name": "stderr",
     "output_type": "stream",
     "text": [
      "/var/folders/6m/mc6f2cbd0y96kqwywtrhvss40000gn/T/ipykernel_75190/3973932359.py:2: SettingWithCopyWarning: \n",
      "A value is trying to be set on a copy of a slice from a DataFrame.\n",
      "Try using .loc[row_indexer,col_indexer] = value instead\n",
      "\n",
      "See the caveats in the documentation: https://pandas.pydata.org/pandas-docs/stable/user_guide/indexing.html#returning-a-view-versus-a-copy\n",
      "  final_df['M/F'] = final_df['M/F'].map({'Male': 'M', 'Female': 'F'})\n"
     ]
    }
   ],
   "source": [
    "# M/F로 표준화\n",
    "final_df['M/F'] = final_df['M/F'].map({'Male': 'M', 'Female': 'F'})"
   ]
  },
  {
   "cell_type": "code",
   "execution_count": 165,
   "id": "837fae8b-e6aa-4b8d-afe8-ac9a8f4cc5b7",
   "metadata": {},
   "outputs": [
    {
     "name": "stdout",
     "output_type": "stream",
     "text": [
      "총 마라톤 참가자 수: 21662명\n"
     ]
    }
   ],
   "source": [
    "total_participants = len(final_df)\n",
    "print(f\"총 마라톤 참가자 수: {total_participants}명\")"
   ]
  },
  {
   "cell_type": "code",
   "execution_count": 167,
   "id": "b2b4d757-1b5f-4bab-8c5e-1c41c5bd719c",
   "metadata": {},
   "outputs": [
    {
     "name": "stdout",
     "output_type": "stream",
     "text": [
      "   Bib                Name  Age M/F        City Country      5K     10K  \\\n",
      "0    1   Sardana Trofimova   30   F     Yakutsk     RUS  1057.0  2112.0   \n",
      "1    2  Tat'yana Arkhipova   35   F  Cheboksary     RUS  1059.0  2115.0   \n",
      "2    3      Stepan Kiselev   31   M      Kazan'     RUS   947.0  1899.0   \n",
      "3    4    Dmitriy Safronov   36   M      Moskva     RUS   945.0  1876.0   \n",
      "4    5    Grigoriy Andreev   42   M         Ufa     RUS   976.0  1958.0   \n",
      "\n",
      "      15K     25K  ...  Official Time Hour    5p   10p   15p   21p   25p  \\\n",
      "0  3149.0  5258.0  ...     0 days 02:28:31  3:31  3:31  3:27  3:24  3:41   \n",
      "1  3188.0  5386.0  ...     0 days 02:35:08  3:31  3:31  3:34  3:31  3:53   \n",
      "2  2867.0  4796.0  ...     0 days 02:15:22  3:09  3:10  3:13  3:06  3:22   \n",
      "3  2814.0  4752.0  ...     0 days 02:21:07  3:09  3:06  3:07  3:05  3:27   \n",
      "4  2933.0  4949.0  ...     0 days 02:25:38  3:15  3:16  3:15  3:13  3:34   \n",
      "\n",
      "    30p   35p   40p   42p  \n",
      "0  3:32  3:28  3:36  3:33  \n",
      "1  3:44  3:40  3:55  3:58  \n",
      "2  3:18  2:49  3:34  3:10  \n",
      "3  3:25  3:29  3:48  3:47  \n",
      "4  3:33  3:33  3:51  3:49  \n",
      "\n",
      "[5 rows x 23 columns]\n"
     ]
    }
   ],
   "source": [
    "print(final_df.head())"
   ]
  },
  {
   "cell_type": "code",
   "execution_count": 171,
   "id": "05f5d57c-ca12-4c55-a94b-956d37de9c08",
   "metadata": {},
   "outputs": [
    {
     "name": "stdout",
     "output_type": "stream",
     "text": [
      "🔍 결측치가 있는 컬럼:\n",
      "42p                   12960\n",
      "35K                   12957\n",
      "35p                   12957\n",
      "40K                   12946\n",
      "40p                   12946\n",
      "30p                   12932\n",
      "30K                   12932\n",
      "21p                   12865\n",
      "25K                   12863\n",
      "25p                   12863\n",
      "15K                   12756\n",
      "15p                   12756\n",
      "Official Time Hour      277\n",
      "5K                      121\n",
      "5p                      121\n",
      "10p                     120\n",
      "10K                     120\n",
      "dtype: int64\n"
     ]
    }
   ],
   "source": [
    "# 결측치 개수 확인\n",
    "missing = final_df.isnull().sum()\n",
    "missing = missing[missing > 0]\n",
    "print(\"결측치가 있는 컬럼:\")\n",
    "print(missing.sort_values(ascending=False))"
   ]
  },
  {
   "cell_type": "code",
   "execution_count": 173,
   "id": "54b52664-86c3-4ebe-b467-21d9675068d4",
   "metadata": {},
   "outputs": [
    {
     "name": "stdout",
     "output_type": "stream",
     "text": [
      "   No  Bib                Name  Age M/F        City Country      5K     10K  \\\n",
      "0   1    1   Sardana Trofimova   30   F     Yakutsk     RUS  1057.0  2112.0   \n",
      "1   2    2  Tat'yana Arkhipova   35   F  Cheboksary     RUS  1059.0  2115.0   \n",
      "2   3    3      Stepan Kiselev   31   M      Kazan'     RUS   947.0  1899.0   \n",
      "3   4    4    Dmitriy Safronov   36   M      Moskva     RUS   945.0  1876.0   \n",
      "4   5    5    Grigoriy Andreev   42   M         Ufa     RUS   976.0  1958.0   \n",
      "\n",
      "      15K  ...  Official Time Hour    5p   10p   15p   21p   25p   30p   35p  \\\n",
      "0  3149.0  ...     0 days 02:28:31  3:31  3:31  3:27  3:24  3:41  3:32  3:28   \n",
      "1  3188.0  ...     0 days 02:35:08  3:31  3:31  3:34  3:31  3:53  3:44  3:40   \n",
      "2  2867.0  ...     0 days 02:15:22  3:09  3:10  3:13  3:06  3:22  3:18  2:49   \n",
      "3  2814.0  ...     0 days 02:21:07  3:09  3:06  3:07  3:05  3:27  3:25  3:29   \n",
      "4  2933.0  ...     0 days 02:25:38  3:15  3:16  3:15  3:13  3:34  3:33  3:33   \n",
      "\n",
      "    40p   42p  \n",
      "0  3:36  3:33  \n",
      "1  3:55  3:58  \n",
      "2  3:34  3:10  \n",
      "3  3:48  3:47  \n",
      "4  3:51  3:49  \n",
      "\n",
      "[5 rows x 24 columns]\n"
     ]
    }
   ],
   "source": [
    "# 결측치가 하나라도 있는 행 제거\n",
    "clean_df = final_df.dropna()\n",
    "\n",
    "# 1부터 시작하는 새로운 인덱스 컬럼 추가\n",
    "clean_df.insert(0, 'No', range(1, len(clean_df) + 1))\n",
    "\n",
    "# 확인\n",
    "print(clean_df.head())"
   ]
  },
  {
   "cell_type": "code",
   "execution_count": 177,
   "id": "a173dafa-715d-4c32-bc84-df4a0489bad2",
   "metadata": {},
   "outputs": [
    {
     "name": "stdout",
     "output_type": "stream",
     "text": [
      "🔍 결측치가 있는 컬럼:\n",
      "Series([], dtype: int64)\n"
     ]
    }
   ],
   "source": [
    "# 결측치 개수 확인\n",
    "missing = clean_df.isnull().sum()\n",
    "missing = missing[missing > 0]\n",
    "print(\"결측치가 있는 컬럼:\")\n",
    "print(missing.sort_values(ascending=False))"
   ]
  },
  {
   "cell_type": "code",
   "execution_count": null,
   "id": "998cb8bc-a1de-40a6-913a-833796954086",
   "metadata": {},
   "outputs": [],
   "source": []
  }
 ],
 "metadata": {
  "kernelspec": {
   "display_name": "Python 3 (ipykernel)",
   "language": "python",
   "name": "python3"
  },
  "language_info": {
   "codemirror_mode": {
    "name": "ipython",
    "version": 3
   },
   "file_extension": ".py",
   "mimetype": "text/x-python",
   "name": "python",
   "nbconvert_exporter": "python",
   "pygments_lexer": "ipython3",
   "version": "3.12.3"
  }
 },
 "nbformat": 4,
 "nbformat_minor": 5
}
